{
 "cells": [
  {
   "cell_type": "markdown",
   "metadata": {},
   "source": [
    "## Analysis of Surface Temperature with Land Cover in Louisville Neighborhoods"
   ]
  },
  {
   "cell_type": "markdown",
   "metadata": {},
   "source": [
    "Resources\n",
    "[pandas.DataFrame.to_sql](https://pandas.pydata.org/pandas-docs/stable/reference/api/pandas.DataFrame.to_sql.html)\n",
    "[Working with SQLite Databases using Python and Pandas](https://www.dataquest.io/blog/python-pandas-databases)"
   ]
  },
  {
   "cell_type": "code",
   "execution_count": 1,
   "metadata": {},
   "outputs": [
    {
     "data": {
      "text/plain": [
       "78"
      ]
     },
     "execution_count": 1,
     "metadata": {},
     "output_type": "execute_result"
    }
   ],
   "source": [
    "# Setup - using pandas, matplotlib, sqlite3, seaborn\n",
    "import pandas as pd\n",
    "import matplotlib.pyplot as plt\n",
    "import sqlite3\n",
    "import seaborn as sns\n",
    "\n",
    "# Use sqlite Connect function to return a Connection object\n",
    "con = sqlite3.connect('hotspot.db')\n",
    "# Create Cursor object in order to execute SQL queries against a database\n",
    "# Will need this sqlite connection to clean the data - pandas alone just reads.\n",
    "cur = con.cursor()\n",
    "\n",
    "# Read csv file\n",
    "hotspot_df = pd.read_csv('hotspot.csv')\n",
    "\n",
    "# Create sql database\n",
    "hotspot_df.to_sql('hotspot_table', con, if_exists='replace', index=False)\n",
    "# There should be 78 rows\n",
    "len(hotspot_df)"
   ]
  },
  {
   "cell_type": "markdown",
   "metadata": {},
   "source": [
    "Referenced this [Pandas Column Operations](https://pythonprogramming.net/pandas-column-operations-calculations/) example"
   ]
  },
  {
   "cell_type": "code",
   "execution_count": 2,
   "metadata": {},
   "outputs": [
    {
     "data": {
      "text/html": [
       "<div>\n",
       "<style scoped>\n",
       "    .dataframe tbody tr th:only-of-type {\n",
       "        vertical-align: middle;\n",
       "    }\n",
       "\n",
       "    .dataframe tbody tr th {\n",
       "        vertical-align: top;\n",
       "    }\n",
       "\n",
       "    .dataframe thead th {\n",
       "        text-align: right;\n",
       "    }\n",
       "</style>\n",
       "<table border=\"1\" class=\"dataframe\">\n",
       "  <thead>\n",
       "    <tr style=\"text-align: right;\">\n",
       "      <th></th>\n",
       "      <th>OBJECTID</th>\n",
       "      <th>NH_NAME</th>\n",
       "      <th>ZIP_Codes</th>\n",
       "      <th>UNIQUE</th>\n",
       "      <th>ACRES</th>\n",
       "      <th>HOTSPOT_ACRES</th>\n",
       "      <th>AVE_TEMP_F</th>\n",
       "      <th>CANOPY_PERCENT</th>\n",
       "      <th>VEGETATION_PERCENT</th>\n",
       "      <th>IMP_BARESOIL_PERCENT</th>\n",
       "      <th>RPA_ACRES</th>\n",
       "      <th>OTHERIMP_ACRES</th>\n",
       "      <th>POTENTIAL_PERVIOUS_TREES</th>\n",
       "      <th>POTENTIAL_IMPERVIOUS_TREES</th>\n",
       "      <th>NET_PERVIOUS_TREES</th>\n",
       "      <th>NET_IMPERVIOUS_TREES</th>\n",
       "      <th>RATIO_IP</th>\n",
       "    </tr>\n",
       "  </thead>\n",
       "  <tbody>\n",
       "    <tr>\n",
       "      <th>0</th>\n",
       "      <td>1</td>\n",
       "      <td>Algonquin</td>\n",
       "      <td>40208, 40210</td>\n",
       "      <td>1</td>\n",
       "      <td>762.62</td>\n",
       "      <td>539.25</td>\n",
       "      <td>96.23</td>\n",
       "      <td>6.90</td>\n",
       "      <td>21.55</td>\n",
       "      <td>71.36</td>\n",
       "      <td>122.19</td>\n",
       "      <td>187.20</td>\n",
       "      <td>8,053</td>\n",
       "      <td>12,337</td>\n",
       "      <td>4,026</td>\n",
       "      <td>617</td>\n",
       "      <td>2.508260</td>\n",
       "    </tr>\n",
       "    <tr>\n",
       "      <th>1</th>\n",
       "      <td>2</td>\n",
       "      <td>Auburndale</td>\n",
       "      <td>40214</td>\n",
       "      <td>2</td>\n",
       "      <td>391.91</td>\n",
       "      <td>17.35</td>\n",
       "      <td>89.87</td>\n",
       "      <td>11.36</td>\n",
       "      <td>17.36</td>\n",
       "      <td>71.42</td>\n",
       "      <td>2.86</td>\n",
       "      <td>6.71</td>\n",
       "      <td>189</td>\n",
       "      <td>442</td>\n",
       "      <td>94</td>\n",
       "      <td>22</td>\n",
       "      <td>2.486769</td>\n",
       "    </tr>\n",
       "    <tr>\n",
       "      <th>2</th>\n",
       "      <td>3</td>\n",
       "      <td>Audubon</td>\n",
       "      <td>40213</td>\n",
       "      <td>3</td>\n",
       "      <td>397.78</td>\n",
       "      <td>54.01</td>\n",
       "      <td>91.13</td>\n",
       "      <td>11.87</td>\n",
       "      <td>33.57</td>\n",
       "      <td>54.54</td>\n",
       "      <td>17.25</td>\n",
       "      <td>13.33</td>\n",
       "      <td>1,136</td>\n",
       "      <td>878</td>\n",
       "      <td>568</td>\n",
       "      <td>44</td>\n",
       "      <td>1.200264</td>\n",
       "    </tr>\n",
       "    <tr>\n",
       "      <th>3</th>\n",
       "      <td>4</td>\n",
       "      <td>Avondale Melbourne Heights</td>\n",
       "      <td>40205, 40220</td>\n",
       "      <td>4</td>\n",
       "      <td>310.1</td>\n",
       "      <td>23.02</td>\n",
       "      <td>91.27</td>\n",
       "      <td>15.11</td>\n",
       "      <td>21.64</td>\n",
       "      <td>63.23</td>\n",
       "      <td>4.80</td>\n",
       "      <td>7.71</td>\n",
       "      <td>316</td>\n",
       "      <td>508</td>\n",
       "      <td>158</td>\n",
       "      <td>25</td>\n",
       "      <td>1.720544</td>\n",
       "    </tr>\n",
       "    <tr>\n",
       "      <th>4</th>\n",
       "      <td>5</td>\n",
       "      <td>Bashford Manor</td>\n",
       "      <td>40218</td>\n",
       "      <td>5</td>\n",
       "      <td>355.24</td>\n",
       "      <td>129.52</td>\n",
       "      <td>93.75</td>\n",
       "      <td>13.99</td>\n",
       "      <td>23.06</td>\n",
       "      <td>62.70</td>\n",
       "      <td>28.35</td>\n",
       "      <td>42.36</td>\n",
       "      <td>1,868</td>\n",
       "      <td>2,792</td>\n",
       "      <td>934</td>\n",
       "      <td>140</td>\n",
       "      <td>1.692308</td>\n",
       "    </tr>\n",
       "  </tbody>\n",
       "</table>\n",
       "</div>"
      ],
      "text/plain": [
       "   OBJECTID                     NH_NAME     ZIP_Codes  UNIQUE   ACRES  \\\n",
       "0         1                   Algonquin  40208, 40210       1  762.62   \n",
       "1         2                  Auburndale         40214       2  391.91   \n",
       "2         3                     Audubon         40213       3  397.78   \n",
       "3         4  Avondale Melbourne Heights  40205, 40220       4   310.1   \n",
       "4         5              Bashford Manor         40218       5  355.24   \n",
       "\n",
       "  HOTSPOT_ACRES  AVE_TEMP_F  CANOPY_PERCENT  VEGETATION_PERCENT  \\\n",
       "0        539.25       96.23            6.90               21.55   \n",
       "1         17.35       89.87           11.36               17.36   \n",
       "2         54.01       91.13           11.87               33.57   \n",
       "3         23.02       91.27           15.11               21.64   \n",
       "4        129.52       93.75           13.99               23.06   \n",
       "\n",
       "   IMP_BARESOIL_PERCENT  RPA_ACRES  OTHERIMP_ACRES POTENTIAL_PERVIOUS_TREES  \\\n",
       "0                 71.36     122.19          187.20                    8,053   \n",
       "1                 71.42       2.86            6.71                      189   \n",
       "2                 54.54      17.25           13.33                    1,136   \n",
       "3                 63.23       4.80            7.71                      316   \n",
       "4                 62.70      28.35           42.36                    1,868   \n",
       "\n",
       "  POTENTIAL_IMPERVIOUS_TREES NET_PERVIOUS_TREES NET_IMPERVIOUS_TREES  RATIO_IP  \n",
       "0                     12,337              4,026                  617  2.508260  \n",
       "1                        442                 94                   22  2.486769  \n",
       "2                        878                568                   44  1.200264  \n",
       "3                        508                158                   25  1.720544  \n",
       "4                      2,792                934                  140  1.692308  "
      ]
     },
     "execution_count": 2,
     "metadata": {},
     "output_type": "execute_result"
    }
   ],
   "source": [
    "# Use pandas and Python to create new column that calculates ratio of impervious to pervious area.\n",
    "hotspot_df['RATIO_IP'] = hotspot_df.IMP_BARESOIL_PERCENT / (hotspot_df.CANOPY_PERCENT + hotspot_df.VEGETATION_PERCENT)\n",
    "# Export updated dataframe to table\n",
    "hotspot_df.to_sql('hotspot_table', con, if_exists=\"replace\")\n",
    "hotspot_df.head()"
   ]
  },
  {
   "cell_type": "code",
   "execution_count": 3,
   "metadata": {},
   "outputs": [
    {
     "data": {
      "text/html": [
       "<div>\n",
       "<style scoped>\n",
       "    .dataframe tbody tr th:only-of-type {\n",
       "        vertical-align: middle;\n",
       "    }\n",
       "\n",
       "    .dataframe tbody tr th {\n",
       "        vertical-align: top;\n",
       "    }\n",
       "\n",
       "    .dataframe thead th {\n",
       "        text-align: right;\n",
       "    }\n",
       "</style>\n",
       "<table border=\"1\" class=\"dataframe\">\n",
       "  <thead>\n",
       "    <tr style=\"text-align: right;\">\n",
       "      <th></th>\n",
       "      <th>Neighborhood</th>\n",
       "      <th>Average Surface Temperature</th>\n",
       "      <th>Canopy Percent</th>\n",
       "      <th>Impervious Ground &amp; Bare Soil Percent</th>\n",
       "      <th>Ratio of Impervious to Pervious Surfaces</th>\n",
       "    </tr>\n",
       "  </thead>\n",
       "  <tbody>\n",
       "    <tr>\n",
       "      <th>0</th>\n",
       "      <td>Algonquin</td>\n",
       "      <td>96.23</td>\n",
       "      <td>6.90</td>\n",
       "      <td>71.36</td>\n",
       "      <td>2.508260</td>\n",
       "    </tr>\n",
       "    <tr>\n",
       "      <th>1</th>\n",
       "      <td>Auburndale</td>\n",
       "      <td>89.87</td>\n",
       "      <td>11.36</td>\n",
       "      <td>71.42</td>\n",
       "      <td>2.486769</td>\n",
       "    </tr>\n",
       "    <tr>\n",
       "      <th>2</th>\n",
       "      <td>Audubon</td>\n",
       "      <td>91.13</td>\n",
       "      <td>11.87</td>\n",
       "      <td>54.54</td>\n",
       "      <td>1.200264</td>\n",
       "    </tr>\n",
       "    <tr>\n",
       "      <th>3</th>\n",
       "      <td>Avondale Melbourne Heights</td>\n",
       "      <td>91.27</td>\n",
       "      <td>15.11</td>\n",
       "      <td>63.23</td>\n",
       "      <td>1.720544</td>\n",
       "    </tr>\n",
       "    <tr>\n",
       "      <th>4</th>\n",
       "      <td>Bashford Manor</td>\n",
       "      <td>93.75</td>\n",
       "      <td>13.99</td>\n",
       "      <td>62.70</td>\n",
       "      <td>1.692308</td>\n",
       "    </tr>\n",
       "  </tbody>\n",
       "</table>\n",
       "</div>"
      ],
      "text/plain": [
       "                 Neighborhood  Average Surface Temperature  Canopy Percent  \\\n",
       "0                   Algonquin                        96.23            6.90   \n",
       "1                  Auburndale                        89.87           11.36   \n",
       "2                     Audubon                        91.13           11.87   \n",
       "3  Avondale Melbourne Heights                        91.27           15.11   \n",
       "4              Bashford Manor                        93.75           13.99   \n",
       "\n",
       "   Impervious Ground & Bare Soil Percent  \\\n",
       "0                                  71.36   \n",
       "1                                  71.42   \n",
       "2                                  54.54   \n",
       "3                                  63.23   \n",
       "4                                  62.70   \n",
       "\n",
       "   Ratio of Impervious to Pervious Surfaces  \n",
       "0                                  2.508260  \n",
       "1                                  2.486769  \n",
       "2                                  1.200264  \n",
       "3                                  1.720544  \n",
       "4                                  1.692308  "
      ]
     },
     "execution_count": 3,
     "metadata": {},
     "output_type": "execute_result"
    }
   ],
   "source": [
    "# Use SQL Select query to obtain scatter plot data\n",
    "hotspot_df = pd.read_sql_query(\"SELECT NH_NAME AS 'Neighborhood', AVE_TEMP_F AS 'Average Surface Temperature', CANOPY_PERCENT AS 'Canopy Percent', IMP_BARESOIL_PERCENT AS 'Impervious Ground & Bare Soil Percent', RATIO_IP AS 'Ratio of Impervious to Pervious Surfaces' FROM hotspot_table WHERE CANOPY_PERCENT > 0\", con)\n",
    "hotspot_df.head()"
   ]
  },
  {
   "cell_type": "markdown",
   "metadata": {},
   "source": [
    "Scatter plots below are made with pandas and Seaborn Python data visualization library. Referenced [pandas.DataFrame.plot.scatter](https://pandas.pydata.org/pandas-docs/stable/reference/api/pandas.DataFrame.plot.scatter.html) and example in [seaborn.regplot].(http://seaborn.pydata.org/generated/seaborn.regplot.html?highlight=regplot#seaborn.regplot)\n",
    "\n",
    "Upgrade to scipy 1.2 if you encounter FutureWarning.\n",
    "On [FutureWarning](https://stackoverflow.com/questions/52594235/futurewarning-using-a-non-tuple-sequence-for-multidimensional-indexing-is-depre) if scipy isn't version 1.2."
   ]
  },
  {
   "cell_type": "markdown",
   "metadata": {},
   "source": [
    "### Correlation of Surface Temperature to Canopy Percent\n",
    "I initially expected that average surface temperature would reduce with increasing canopy percent, but plot1 below demonstrates demonstrates no correlation. There are many neighborhoods that have lower measured surface temperature with canopy percent below 30% compared to the neighborhood at over 80% canopy."
   ]
  },
  {
   "cell_type": "code",
   "execution_count": 4,
   "metadata": {},
   "outputs": [
    {
     "data": {
      "text/plain": [
       "<matplotlib.axes._subplots.AxesSubplot at 0x21cc23e15c0>"
      ]
     },
     "execution_count": 4,
     "metadata": {},
     "output_type": "execute_result"
    },
    {
     "data": {
      "image/png": "[encoded data removed]",
      "text/plain": [
       "<Figure size 432x288 with 1 Axes>"
      ]
     },
     "metadata": {
      "needs_background": "light"
     },
     "output_type": "display_data"
    }
   ],
   "source": [
    "hotspot_df.plot.scatter(x='Canopy Percent', y='Average Surface Temperature', c='DarkBlue')"
   ]
  },
  {
   "cell_type": "markdown",
   "metadata": {},
   "source": [
    "### Correlation of Surface Temperature to Impervious Ground & Bare Soil\n",
    "I then tried correlating average surface temperature to combined impervious ground and bare soil percent. Again, there is no correlation. These results suggest that a single category of ground cover alone is not indicative of local temperature."
   ]
  },
  {
   "cell_type": "code",
   "execution_count": 5,
   "metadata": {},
   "outputs": [
    {
     "data": {
      "text/plain": [
       "<matplotlib.axes._subplots.AxesSubplot at 0x21cc2486198>"
      ]
     },
     "execution_count": 5,
     "metadata": {},
     "output_type": "execute_result"
    },
    {
     "data": {
      "image/png": "[encoded data removed]",
      "text/plain": [
       "<Figure size 432x288 with 1 Axes>"
      ]
     },
     "metadata": {
      "needs_background": "light"
     },
     "output_type": "display_data"
    }
   ],
   "source": [
    "hotspot_df.plot.scatter(x='Impervious Ground & Bare Soil Percent', y='Average Surface Temperature', c='DarkBlue')"
   ]
  },
  {
   "cell_type": "markdown",
   "metadata": {},
   "source": [
    "### Correlation of average surface temperature to Impervious:Pervious ratio\n",
    "A ratio of impervious to pervious surfaces captures more information that impacts the average surface temperature, shown below using Seaborn. The higher the ratio, the higher the average local temperature with the exception of a clear outlier."
   ]
  },
  {
   "cell_type": "code",
   "execution_count": 6,
   "metadata": {},
   "outputs": [
    {
     "data": {
      "image/png": "[encoded data removed]",
      "text/plain": [
       "<Figure size 432x288 with 1 Axes>"
      ]
     },
     "metadata": {
      "needs_background": "light"
     },
     "output_type": "display_data"
    }
   ],
   "source": [
    "plot = sns.regplot(x='Ratio of Impervious to Pervious Surfaces', y='Average Surface Temperature', data=hotspot_df)"
   ]
  }
 ],
 "metadata": {
  "kernelspec": {
   "display_name": "Python 3",
   "language": "python",
   "name": "python3"
  },
  "language_info": {
   "codemirror_mode": {
    "name": "ipython",
    "version": 3
   },
   "file_extension": ".py",
   "mimetype": "text/x-python",
   "name": "python",
   "nbconvert_exporter": "python",
   "pygments_lexer": "ipython3",
   "version": "3.7.1"
  }
 },
 "nbformat": 4,
 "nbformat_minor": 2
}
